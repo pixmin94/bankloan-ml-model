{
 "cells": [
  {
   "cell_type": "code",
   "execution_count": 79,
   "id": "numeric-rotation",
   "metadata": {},
   "outputs": [],
   "source": [
    "# Importing the required libraries\n",
    "!pip install seaborn\n",
    "!pip install imbalanced-learn\n",
    "!pip install delayed\n",
    "\n",
    "import numpy as np\n",
    "import pandas as pd\n",
    "import seaborn as sns\n",
    "import matplotlib.pyplot as plt\n",
    "import webbrowser\n",
    "import os\n",
    "import imblearn\n",
    "import joblib\n",
    "\n",
    "from sklearn.model_selection import train_test_split\n",
    "from sklearn import ensemble\n",
    "from imblearn.over_sampling import SMOTE\n",
    "\n",
    "from pandas.plotting import scatter_matrix\n",
    "from sklearn import model_selection\n",
    "from sklearn.metrics import classification_report\n",
    "from sklearn.metrics import confusion_matrix\n",
    "from sklearn.metrics import accuracy_score\n",
    "from sklearn.linear_model import LogisticRegression\n",
    "from sklearn.tree import DecisionTreeClassifier\n",
    "from sklearn.neighbors import KNeighborsClassifier\n",
    "from sklearn.discriminant_analysis import LinearDiscriminantAnalysis\n",
    "from sklearn.naive_bayes import GaussianNB\n",
    "from sklearn.svm import SVC\n",
    "from sklearn.ensemble import RandomForestClassifier\n",
    "from sklearn.metrics import recall_score\n",
    "from sklearn.model_selection import GridSearchCV\n",
    "\n",
    "\n",
    "pd.options.display.max_rows = 150\n",
    "pd.options.display.max_columns = 150"
   ]
  },
  {
   "cell_type": "code",
   "execution_count": 3,
   "id": "attempted-czech",
   "metadata": {},
   "outputs": [
    {
     "data": {
      "text/html": [
       "<div>\n",
       "<style scoped>\n",
       "    .dataframe tbody tr th:only-of-type {\n",
       "        vertical-align: middle;\n",
       "    }\n",
       "\n",
       "    .dataframe tbody tr th {\n",
       "        vertical-align: top;\n",
       "    }\n",
       "\n",
       "    .dataframe thead th {\n",
       "        text-align: right;\n",
       "    }\n",
       "</style>\n",
       "<table border=\"1\" class=\"dataframe\">\n",
       "  <thead>\n",
       "    <tr style=\"text-align: right;\">\n",
       "      <th></th>\n",
       "      <th>TARGET</th>\n",
       "      <th>NAME_CONTRACT_TYPE</th>\n",
       "      <th>CODE_GENDER</th>\n",
       "      <th>AMT_INCOME_TOTAL</th>\n",
       "      <th>AMT_CREDIT</th>\n",
       "      <th>NAME_INCOME_TYPE</th>\n",
       "      <th>NAME_EDUCATION_TYPE</th>\n",
       "      <th>NAME_FAMILY_STATUS</th>\n",
       "      <th>NAME_HOUSING_TYPE</th>\n",
       "      <th>DAYS_BIRTH</th>\n",
       "      <th>DAYS_EMPLOYED</th>\n",
       "      <th>DAYS_REGISTRATION</th>\n",
       "      <th>REGION_RATING_CLIENT</th>\n",
       "    </tr>\n",
       "  </thead>\n",
       "  <tbody>\n",
       "    <tr>\n",
       "      <th>0</th>\n",
       "      <td>1</td>\n",
       "      <td>Cash loans</td>\n",
       "      <td>M</td>\n",
       "      <td>202500.0</td>\n",
       "      <td>406597.5</td>\n",
       "      <td>Working</td>\n",
       "      <td>Secondary / secondary special</td>\n",
       "      <td>Single / not married</td>\n",
       "      <td>House / apartment</td>\n",
       "      <td>-9461</td>\n",
       "      <td>-637</td>\n",
       "      <td>-3648.0</td>\n",
       "      <td>2</td>\n",
       "    </tr>\n",
       "    <tr>\n",
       "      <th>1</th>\n",
       "      <td>0</td>\n",
       "      <td>Cash loans</td>\n",
       "      <td>F</td>\n",
       "      <td>270000.0</td>\n",
       "      <td>1293502.5</td>\n",
       "      <td>State servant</td>\n",
       "      <td>Higher education</td>\n",
       "      <td>Married</td>\n",
       "      <td>House / apartment</td>\n",
       "      <td>-16765</td>\n",
       "      <td>-1188</td>\n",
       "      <td>-1186.0</td>\n",
       "      <td>1</td>\n",
       "    </tr>\n",
       "    <tr>\n",
       "      <th>2</th>\n",
       "      <td>0</td>\n",
       "      <td>Revolving loans</td>\n",
       "      <td>M</td>\n",
       "      <td>67500.0</td>\n",
       "      <td>135000.0</td>\n",
       "      <td>Working</td>\n",
       "      <td>Secondary / secondary special</td>\n",
       "      <td>Single / not married</td>\n",
       "      <td>House / apartment</td>\n",
       "      <td>-19046</td>\n",
       "      <td>-225</td>\n",
       "      <td>-4260.0</td>\n",
       "      <td>2</td>\n",
       "    </tr>\n",
       "    <tr>\n",
       "      <th>3</th>\n",
       "      <td>0</td>\n",
       "      <td>Cash loans</td>\n",
       "      <td>F</td>\n",
       "      <td>135000.0</td>\n",
       "      <td>312682.5</td>\n",
       "      <td>Working</td>\n",
       "      <td>Secondary / secondary special</td>\n",
       "      <td>Civil marriage</td>\n",
       "      <td>House / apartment</td>\n",
       "      <td>-19005</td>\n",
       "      <td>-3039</td>\n",
       "      <td>-9833.0</td>\n",
       "      <td>2</td>\n",
       "    </tr>\n",
       "    <tr>\n",
       "      <th>4</th>\n",
       "      <td>0</td>\n",
       "      <td>Cash loans</td>\n",
       "      <td>M</td>\n",
       "      <td>121500.0</td>\n",
       "      <td>513000.0</td>\n",
       "      <td>Working</td>\n",
       "      <td>Secondary / secondary special</td>\n",
       "      <td>Single / not married</td>\n",
       "      <td>House / apartment</td>\n",
       "      <td>-19932</td>\n",
       "      <td>-3038</td>\n",
       "      <td>-4311.0</td>\n",
       "      <td>2</td>\n",
       "    </tr>\n",
       "  </tbody>\n",
       "</table>\n",
       "</div>"
      ],
      "text/plain": [
       "   TARGET NAME_CONTRACT_TYPE CODE_GENDER  AMT_INCOME_TOTAL  AMT_CREDIT  \\\n",
       "0       1         Cash loans           M          202500.0    406597.5   \n",
       "1       0         Cash loans           F          270000.0   1293502.5   \n",
       "2       0    Revolving loans           M           67500.0    135000.0   \n",
       "3       0         Cash loans           F          135000.0    312682.5   \n",
       "4       0         Cash loans           M          121500.0    513000.0   \n",
       "\n",
       "  NAME_INCOME_TYPE            NAME_EDUCATION_TYPE    NAME_FAMILY_STATUS  \\\n",
       "0          Working  Secondary / secondary special  Single / not married   \n",
       "1    State servant               Higher education               Married   \n",
       "2          Working  Secondary / secondary special  Single / not married   \n",
       "3          Working  Secondary / secondary special        Civil marriage   \n",
       "4          Working  Secondary / secondary special  Single / not married   \n",
       "\n",
       "   NAME_HOUSING_TYPE  DAYS_BIRTH  DAYS_EMPLOYED  DAYS_REGISTRATION  \\\n",
       "0  House / apartment       -9461           -637            -3648.0   \n",
       "1  House / apartment      -16765          -1188            -1186.0   \n",
       "2  House / apartment      -19046           -225            -4260.0   \n",
       "3  House / apartment      -19005          -3039            -9833.0   \n",
       "4  House / apartment      -19932          -3038            -4311.0   \n",
       "\n",
       "   REGION_RATING_CLIENT  \n",
       "0                     2  \n",
       "1                     1  \n",
       "2                     2  \n",
       "3                     2  \n",
       "4                     2  "
      ]
     },
     "execution_count": 3,
     "metadata": {},
     "output_type": "execute_result"
    }
   ],
   "source": [
    "# Read the dataset into a data table using Pandas\n",
    "data = pd.read_csv(\"data//loan_data.csv\")\n",
    "data.head()\n"
   ]
  },
  {
   "cell_type": "code",
   "execution_count": 86,
   "id": "promotional-awareness",
   "metadata": {},
   "outputs": [
    {
     "data": {
      "text/plain": [
       "(307511, 13)"
      ]
     },
     "execution_count": 86,
     "metadata": {},
     "output_type": "execute_result"
    }
   ],
   "source": [
    "data.shape"
   ]
  },
  {
   "cell_type": "code",
   "execution_count": 11,
   "id": "suited-knife",
   "metadata": {},
   "outputs": [
    {
     "data": {
      "image/png": "[encoded data removed]",
      "text/plain": [
       "<Figure size 432x288 with 1 Axes>"
      ]
     },
     "metadata": {},
     "output_type": "display_data"
    }
   ],
   "source": [
    "#Checking for data imbalance for the Target Column\n",
    "\n",
    "Defaulter = round((data['TARGET'].value_counts()[1]/len(data)),2)\n",
    "Non_Defaulter = round((data['TARGET'].value_counts()[0]/len(data)),2)\n",
    "explode= (0.1,0.1)\n",
    "client = [Defaulter, Non_Defaulter]\n",
    "labels = 'Defaulter', 'Non-Defaulter'\n",
    "plt.pie(client, labels=labels, explode=explode, autopct='%1.1f%%', startangle=90)\n",
    "\n",
    "plt.show()"
   ]
  },
  {
   "cell_type": "code",
   "execution_count": 81,
   "id": "guided-sally",
   "metadata": {},
   "outputs": [
    {
     "data": {
      "image/png": "[encoded data removed]",
      "text/plain": [
       "<Figure size 864x576 with 2 Axes>"
      ]
     },
     "metadata": {
      "needs_background": "light"
     },
     "output_type": "display_data"
    },
    {
     "name": "stdout",
     "output_type": "stream",
     "text": [
      "Top Ten Correlations are:\n",
      "1. DAYS_BIRTH and DAYS_EMPLOYED\n",
      "2. DAYS_BIRTH and DAYS_REGISTRATION\n",
      "3. DAYS_EMPLOYED and DAYS_REGISTRATION\n",
      "4. AMT_INCOME_TOTAL and AMT_CREDIT\n",
      "5. AMT_CREDIT and REGION_RATING_CLIENT\n",
      "6. AMT_INCOME_TOTAL and REGION_RATING_CLIENT\n",
      "7. DAYS_REGISTRATION and REGION_RATING_CLIENT\n",
      "8. AMT_CREDIT and DAYS_EMPLOYED\n",
      "9. AMT_INCOME_TOTAL and DAYS_EMPLOYED\n",
      "10. AMT_CREDIT and DAYS_BIRTH\n"
     ]
    }
   ],
   "source": [
    "def correlation_heatmap(var):\n",
    "    plt.figure(figsize=(12,8))\n",
    "    cor = var.corr()\n",
    "\n",
    "    sns.heatmap(cor,annot=True,linewidths=.5,cbar_kws={\"orientation\": \"horizontal\"},cmap=\"Reds\")\n",
    "    plt.show()\n",
    "    #Steps to obtain the top correlation.\n",
    "    indices = np.where(cor > -1)\n",
    "    indices = [(cor.index[x], cor.columns[y],abs(cor.iloc[x,y])) for x, y in zip(*indices) if x != y and x < y]\n",
    "    a=sorted(indices, key=lambda x: x[2],reverse=True)\n",
    "    print(\"Top Ten Correlations are:\")\n",
    "    for i in range(0,10):\n",
    "        print('%d. '%(i+1)+a[i][0]+' and '+a[i][1])\n",
    "        \n",
    "correlation_heatmap(data[['AMT_INCOME_TOTAL','AMT_CREDIT','DAYS_BIRTH','DAYS_EMPLOYED','DAYS_REGISTRATION','REGION_RATING_CLIENT']])\n"
   ]
  },
  {
   "cell_type": "code",
   "execution_count": 4,
   "id": "honest-evaluation",
   "metadata": {},
   "outputs": [],
   "source": [
    "#replace categorical data with one-hot encoded data\n",
    "features_data=pd.get_dummies(data,\n",
    "columns=['NAME_CONTRACT_TYPE','NAME_INCOME_TYPE','NAME_FAMILY_STATUS','NAME_HOUSING_TYPE','CODE_GENDER','NAME_EDUCATION_TYPE'])\n",
    "features_data.columns\n",
    "\n",
    "#Create the X and Y arrays\n",
    "array = features_data.values\n",
    "X = array[:,1:]  # All rows and column 1 to last column\n",
    "Y = array[:,0]    # All rows and column 0 only (Target)\n"
   ]
  },
  {
   "cell_type": "code",
   "execution_count": 84,
   "id": "abstract-pastor",
   "metadata": {},
   "outputs": [
    {
     "data": {
      "text/plain": [
       "Index(['TARGET', 'AMT_INCOME_TOTAL', 'AMT_CREDIT', 'DAYS_BIRTH',\n",
       "       'DAYS_EMPLOYED', 'DAYS_REGISTRATION', 'REGION_RATING_CLIENT',\n",
       "       'NAME_CONTRACT_TYPE_Cash loans', 'NAME_CONTRACT_TYPE_Revolving loans',\n",
       "       'NAME_INCOME_TYPE_Businessman', 'NAME_INCOME_TYPE_Commercial associate',\n",
       "       'NAME_INCOME_TYPE_Maternity leave', 'NAME_INCOME_TYPE_Pensioner',\n",
       "       'NAME_INCOME_TYPE_State servant', 'NAME_INCOME_TYPE_Student',\n",
       "       'NAME_INCOME_TYPE_Unemployed', 'NAME_INCOME_TYPE_Working',\n",
       "       'NAME_FAMILY_STATUS_Civil marriage', 'NAME_FAMILY_STATUS_Married',\n",
       "       'NAME_FAMILY_STATUS_Separated',\n",
       "       'NAME_FAMILY_STATUS_Single / not married', 'NAME_FAMILY_STATUS_Unknown',\n",
       "       'NAME_FAMILY_STATUS_Widow', 'NAME_HOUSING_TYPE_Co-op apartment',\n",
       "       'NAME_HOUSING_TYPE_House / apartment',\n",
       "       'NAME_HOUSING_TYPE_Municipal apartment',\n",
       "       'NAME_HOUSING_TYPE_Office apartment',\n",
       "       'NAME_HOUSING_TYPE_Rented apartment', 'NAME_HOUSING_TYPE_With parents',\n",
       "       'CODE_GENDER_F', 'CODE_GENDER_M', 'CODE_GENDER_XNA',\n",
       "       'NAME_EDUCATION_TYPE_Academic degree',\n",
       "       'NAME_EDUCATION_TYPE_Higher education',\n",
       "       'NAME_EDUCATION_TYPE_Incomplete higher',\n",
       "       'NAME_EDUCATION_TYPE_Lower secondary',\n",
       "       'NAME_EDUCATION_TYPE_Secondary / secondary special'],\n",
       "      dtype='object')"
      ]
     },
     "execution_count": 84,
     "metadata": {},
     "output_type": "execute_result"
    }
   ],
   "source": [
    "features_data.columns"
   ]
  },
  {
   "cell_type": "code",
   "execution_count": 85,
   "id": "senior-thanks",
   "metadata": {},
   "outputs": [
    {
     "data": {
      "text/plain": [
       "(307511, 37)"
      ]
     },
     "execution_count": 85,
     "metadata": {},
     "output_type": "execute_result"
    }
   ],
   "source": [
    "features_data.shape"
   ]
  },
  {
   "cell_type": "code",
   "execution_count": 5,
   "id": "killing-residence",
   "metadata": {},
   "outputs": [],
   "source": [
    "# transform the dataset using SMOTE\n",
    "oversample = SMOTE()\n",
    "X,Y = oversample.fit_resample(X,Y)\n"
   ]
  },
  {
   "cell_type": "code",
   "execution_count": 6,
   "id": "discrete-israel",
   "metadata": {},
   "outputs": [],
   "source": [
    "# shuffle and split the data into 70% for training and 30% for testing\n",
    "validation_size = 0.30 \n",
    "seed = 7\n",
    "X_train, X_validation, Y_train, Y_validation = model_selection.train_test_split(X, Y, test_size=validation_size, random_state=seed)\n"
   ]
  },
  {
   "cell_type": "code",
   "execution_count": 19,
   "id": "loaded-sudan",
   "metadata": {},
   "outputs": [],
   "source": [
    "# Using a sample of the training data to test algorithms\n",
    "X_train_sample = X_train[:1000]\n",
    "Y_train_sample = Y_train[:1000]"
   ]
  },
  {
   "cell_type": "code",
   "execution_count": 20,
   "id": "introductory-sight",
   "metadata": {},
   "outputs": [],
   "source": [
    "# Test options and evaluation metric\n",
    "seed = 7\n",
    "scoring = 'accuracy'\n"
   ]
  },
  {
   "cell_type": "code",
   "execution_count": 21,
   "id": "pleased-operator",
   "metadata": {},
   "outputs": [
    {
     "name": "stdout",
     "output_type": "stream",
     "text": [
      "LR: 0.520000 (0.052915)\n",
      "LDA: 0.586000 (0.052383)\n",
      "CART: 0.821000 (0.033897)\n",
      "NB: 0.564000 (0.032924)\n",
      "SVM: 0.474000 (0.041280)\n",
      "KNN: 0.518000 (0.058275)\n"
     ]
    }
   ],
   "source": [
    "# Spot Check Algorithms\n",
    "models = []\n",
    "models.append(('LR', LogisticRegression(solver='lbfgs', multi_class='auto', max_iter=200)))\n",
    "models.append(('LDA', LinearDiscriminantAnalysis()))\n",
    "models.append(('CART', DecisionTreeClassifier()))\n",
    "models.append(('NB', GaussianNB()))\n",
    "models.append(('SVM', SVC(gamma='auto')))\n",
    "models.append(('KNN', KNeighborsClassifier()))\n",
    "\n",
    "# evaluate each model in turn\n",
    "results = []\n",
    "names = []\n",
    "for name, model in models:\n",
    "    kfold = model_selection.KFold(n_splits=10, random_state=seed, shuffle=True)\n",
    "    cv_results = model_selection.cross_val_score(model, X_train_sample, Y_train_sample, cv=kfold, scoring=scoring)\n",
    "    results.append(cv_results)\n",
    "    names.append(name)\n",
    "    msg = \"%s: %f (%f)\" % (name, cv_results.mean(), cv_results.std())\n",
    "    print(msg)\n",
    "    "
   ]
  },
  {
   "cell_type": "code",
   "execution_count": 38,
   "id": "olive-natural",
   "metadata": {},
   "outputs": [
    {
     "name": "stdout",
     "output_type": "stream",
     "text": [
      "Accuracy:\n",
      "0.905672947668797\n",
      "\n",
      "Confusion matrix:\n",
      "[[75934  8763]\n",
      " [ 7236 77679]]\n",
      "\n",
      "Classification report:\n",
      "              precision    recall  f1-score   support\n",
      "\n",
      "         0.0       0.91      0.90      0.90     84697\n",
      "         1.0       0.90      0.91      0.91     84915\n",
      "\n",
      "    accuracy                           0.91    169612\n",
      "   macro avg       0.91      0.91      0.91    169612\n",
      "weighted avg       0.91      0.91      0.91    169612\n",
      "\n"
     ]
    }
   ],
   "source": [
    "# Make predictions on validation dataset\n",
    "cart = DecisionTreeClassifier()\n",
    "cart.fit(X_train,Y_train)\n",
    "predictions = cart.predict(X_validation)\n",
    "print(\"Accuracy:\")\n",
    "print(accuracy_score(Y_validation, predictions))\n",
    "print()\n",
    "print(\"Confusion matrix:\")\n",
    "print(confusion_matrix(Y_validation, predictions))\n",
    "print()\n",
    "print(\"Classification report:\")\n",
    "print(classification_report(Y_validation, predictions))\n"
   ]
  },
  {
   "cell_type": "code",
   "execution_count": 63,
   "id": "front-rochester",
   "metadata": {},
   "outputs": [
    {
     "data": {
      "text/plain": [
       "RandomForestClassifier(n_estimators=500, random_state=7)"
      ]
     },
     "execution_count": 63,
     "metadata": {},
     "output_type": "execute_result"
    }
   ],
   "source": [
    "rf = RandomForestClassifier(n_estimators = 500, random_state = 7)\n",
    "rf.fit(X_train,Y_train)"
   ]
  },
  {
   "cell_type": "code",
   "execution_count": 64,
   "id": "spanish-working",
   "metadata": {},
   "outputs": [
    {
     "name": "stdout",
     "output_type": "stream",
     "text": [
      "Accuracy:\n",
      "0.948653397165295\n",
      "\n",
      "Confusion_matrix:\n",
      "[[84487   210]\n",
      " [ 8499 76416]]\n",
      "\n",
      "Classification report:\n",
      "              precision    recall  f1-score   support\n",
      "\n",
      "         0.0       0.91      1.00      0.95     84697\n",
      "         1.0       1.00      0.90      0.95     84915\n",
      "\n",
      "    accuracy                           0.95    169612\n",
      "   macro avg       0.95      0.95      0.95    169612\n",
      "weighted avg       0.95      0.95      0.95    169612\n",
      "\n"
     ]
    }
   ],
   "source": [
    "predictions = rf.predict(X_validation)\n",
    "print(\"Accuracy:\")\n",
    "print(accuracy_score(Y_validation, predictions))\n",
    "print()\n",
    "print(\"Confusion_matrix:\")\n",
    "print(confusion_matrix(Y_validation, predictions))\n",
    "print()\n",
    "print(\"Classification report:\")\n",
    "print(classification_report(Y_validation, predictions))"
   ]
  },
  {
   "cell_type": "code",
   "execution_count": 71,
   "id": "green-glasgow",
   "metadata": {},
   "outputs": [
    {
     "name": "stdout",
     "output_type": "stream",
     "text": [
      "Fitting 5 folds for each of 288 candidates, totalling 1440 fits\n",
      "{'learning_rate': 0.02, 'max_depth': 4, 'max_features': 0.3, 'min_samples_leaf': 17, 'n_estimators': 500}\n"
     ]
    }
   ],
   "source": [
    "model = ensemble.GradientBoostingClassifier()\n",
    "\n",
    "param_grid = {\n",
    "    'n_estimators': [500, 1000, 3000],\n",
    "    'max_depth': [4, 6],\n",
    "    'min_samples_leaf': [3, 5, 9, 17],\n",
    "    'learning_rate': [0.1, 0.05, 0.02, 0.01],\n",
    "    'max_features': [1.0, 0.3, 0.1]\n",
    "}\n",
    "\n",
    "gs_cv = GridSearchCV(model, param_grid, n_jobs=4, verbose=40)\n",
    "\n",
    "gs_cv.fit(X_train_sample,Y_train_sample)\n",
    "\n",
    "print(gs_cv.best_params_)"
   ]
  },
  {
   "cell_type": "code",
   "execution_count": 72,
   "id": "advised-coach",
   "metadata": {},
   "outputs": [
    {
     "data": {
      "text/plain": [
       "GradientBoostingClassifier(learning_rate=0.02, max_depth=4, max_features=0.3,\n",
       "                           min_samples_leaf=17, n_estimators=500,\n",
       "                           random_state=7)"
      ]
     },
     "execution_count": 72,
     "metadata": {},
     "output_type": "execute_result"
    }
   ],
   "source": [
    "# Exploring gradient boost predictions\n",
    "model = ensemble.GradientBoostingClassifier(\n",
    "    n_estimators=500,\n",
    "    learning_rate=0.02,\n",
    "    max_depth=4,\n",
    "    min_samples_leaf=17,\n",
    "    max_features=0.3,\n",
    "    loss='deviance',\n",
    "    random_state=7\n",
    ")\n",
    "model.fit(X_train, Y_train)"
   ]
  },
  {
   "cell_type": "code",
   "execution_count": 73,
   "id": "mineral-threshold",
   "metadata": {},
   "outputs": [
    {
     "name": "stdout",
     "output_type": "stream",
     "text": [
      "Accuracy:\n",
      "0.9325755253166049\n",
      "\n",
      "Confusion_matrix:\n",
      "[[84697     0]\n",
      " [11436 73479]]\n",
      "\n",
      "Classification report:\n",
      "              precision    recall  f1-score   support\n",
      "\n",
      "         0.0       0.88      1.00      0.94     84697\n",
      "         1.0       1.00      0.87      0.93     84915\n",
      "\n",
      "    accuracy                           0.93    169612\n",
      "   macro avg       0.94      0.93      0.93    169612\n",
      "weighted avg       0.94      0.93      0.93    169612\n",
      "\n"
     ]
    }
   ],
   "source": [
    "predictions = model.predict(X_validation)\n",
    "print(\"Accuracy:\")\n",
    "print(accuracy_score(Y_validation, predictions))\n",
    "print()\n",
    "print(\"Confusion_matrix:\")\n",
    "print(confusion_matrix(Y_validation, predictions))\n",
    "print()\n",
    "print(\"Classification report:\")\n",
    "print(classification_report(Y_validation, predictions))"
   ]
  }
 ],
 "metadata": {
  "kernelspec": {
   "display_name": "Python 3",
   "language": "python",
   "name": "python3"
  },
  "language_info": {
   "codemirror_mode": {
    "name": "ipython",
    "version": 3
   },
   "file_extension": ".py",
   "mimetype": "text/x-python",
   "name": "python",
   "nbconvert_exporter": "python",
   "pygments_lexer": "ipython3",
   "version": "3.8.5"
  }
 },
 "nbformat": 4,
 "nbformat_minor": 5
}
